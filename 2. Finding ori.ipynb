{
 "cells": [
  {
   "cell_type": "markdown",
   "metadata": {},
   "source": [
    "### Skew minima"
   ]
  },
  {
   "cell_type": "code",
   "execution_count": 8,
   "metadata": {},
   "outputs": [],
   "source": [
    "def MinimumSkew(Genome):\n",
    "    res=list()\n",
    "    cntr=0\n",
    "    min=0\n",
    "    min_in=[]\n",
    "    res.append(cntr)\n",
    "    for i in range(0, len(Genome)-1):\n",
    "        if Genome[i] == 'C':\n",
    "            cntr-=1\n",
    "        elif Genome[i] == 'G':\n",
    "            cntr+=1\n",
    "        res.append(cntr)\n",
    "        if cntr<min:\n",
    "            min=cntr\n",
    "            min_in=[i+1]\n",
    "        elif cntr==min:\n",
    "            min_in.append(i+1)\n",
    "    return min_in"
   ]
  },
  {
   "cell_type": "code",
   "execution_count": 3,
   "metadata": {},
   "outputs": [
    {
     "data": {
      "text/plain": [
       "[11, 24]"
      ]
     },
     "execution_count": 3,
     "metadata": {},
     "output_type": "execute_result"
    }
   ],
   "source": [
    "MinimumSkew('TAAAGACTGCCGAGAGGCCAACACGAGTGCTAGAACGAGGGGCGTAAACGCGGGTCCGAT')"
   ]
  },
  {
   "cell_type": "markdown",
   "metadata": {},
   "source": [
    "### Hamming distance"
   ]
  },
  {
   "cell_type": "code",
   "execution_count": 9,
   "metadata": {},
   "outputs": [],
   "source": [
    "def HammingDistance(p, q):\n",
    "    cntr = 0\n",
    "    for i in range(0, len(p)):\n",
    "        if p[i] != q[i]:\n",
    "            cntr+=1\n",
    "    return cntr"
   ]
  },
  {
   "cell_type": "code",
   "execution_count": 5,
   "metadata": {},
   "outputs": [
    {
     "data": {
      "text/plain": [
       "3"
      ]
     },
     "execution_count": 5,
     "metadata": {},
     "output_type": "execute_result"
    }
   ],
   "source": [
    "HammingDistance('GGGCCGTTGGT', 'GGACCGTTGAC')"
   ]
  },
  {
   "cell_type": "markdown",
   "metadata": {},
   "source": [
    "<code>ApproximatePatternCount(Text, Pattern, d)\n",
    "        count ← 0\n",
    "        for i ← 0 to |Text| − |Pattern|\n",
    "            Pattern′ ← Text(i , |Pattern|)\n",
    "            if HammingDistance(Pattern, Pattern′) ≤ d\n",
    "                count ← count + 1\n",
    "        return count</code>"
   ]
  },
  {
   "cell_type": "code",
   "execution_count": 10,
   "metadata": {},
   "outputs": [],
   "source": [
    "def ApproximatePatternCount(Text, Pattern, d):\n",
    "    count=0\n",
    "    l = len(Pattern)\n",
    "    for i in range(0, len(Text)-l+1):\n",
    "        if HammingDistance(Text[i: i+l], Pattern)<=d:\n",
    "            count+=1\n",
    "    return count"
   ]
  },
  {
   "cell_type": "code",
   "execution_count": 7,
   "metadata": {},
   "outputs": [
    {
     "data": {
      "text/plain": [
       "4"
      ]
     },
     "execution_count": 7,
     "metadata": {},
     "output_type": "execute_result"
    }
   ],
   "source": [
    "ApproximatePatternCount('CGCCCGAATCCAGAACGCATTCCCATATTTCGGGACCACTGGCCTCCACGGTACGGACGTCAATCAAAT', 'ATTCTGGA', 3)"
   ]
  },
  {
   "cell_type": "markdown",
   "metadata": {},
   "source": [
    "<code>ImmediateNeighbors(Pattern)\n",
    "        Neighborhood ← the set consisting of single string Pattern\n",
    "        for i = 1 to |Pattern|\n",
    "            symbol ← i-th nucleotide of Pattern\n",
    "            for each nucleotide x different from symbol\n",
    "                Neighbor ← Pattern with the i-th nucleotide substituted by x\n",
    "                add Neighbor to Neighborhood\n",
    "        return Neighborhood</code>"
   ]
  },
  {
   "cell_type": "code",
   "execution_count": 11,
   "metadata": {},
   "outputs": [],
   "source": [
    "def ImmediateNeighbors(Pattern):\n",
    "    neighborhood = set()\n",
    "    neighborhood.add(Pattern)\n",
    "    for i in range(0, len(Pattern)):\n",
    "        symbol = Pattern[i]\n",
    "        not_sym = [x for x in ['A', 'T', 'G', 'C'] if x!=symbol]\n",
    "        for x in not_sym:\n",
    "            neighbor = Pattern[:i]+x+Pattern[i+1:]\n",
    "            neighborhood.add(neighbor)\n",
    "    return neighborhood"
   ]
  },
  {
   "cell_type": "code",
   "execution_count": 9,
   "metadata": {},
   "outputs": [
    {
     "data": {
      "text/plain": [
       "{'AAG', 'ACA', 'ACC', 'ACG', 'ACT', 'AGG', 'ATG', 'CCG', 'GCG', 'TCG'}"
      ]
     },
     "execution_count": 9,
     "metadata": {},
     "output_type": "execute_result"
    }
   ],
   "source": [
    "ImmediateNeighbors('ACG')"
   ]
  },
  {
   "cell_type": "markdown",
   "metadata": {},
   "source": [
    "<code>Neighbors(Pattern, d)\n",
    "        if d = 0\n",
    "            return {Pattern}\n",
    "        if |Pattern| = 1 \n",
    "            return {A, C, G, T}\n",
    "        Neighborhood ← an empty set\n",
    "        SuffixNeighbors ← Neighbors(Suffix(Pattern), d)\n",
    "        for each string Text from SuffixNeighbors\n",
    "            if HammingDistance(Suffix(Pattern), Text) < d\n",
    "                for each nucleotide x\n",
    "                    add x • Text to Neighborhood\n",
    "            else\n",
    "                add FirstSymbol(Pattern) • Text to Neighborhood\n",
    "        return Neighborhood</code>"
   ]
  },
  {
   "cell_type": "code",
   "execution_count": 12,
   "metadata": {},
   "outputs": [],
   "source": [
    "def Neighbors(Pattern, d):\n",
    "    neighborhood = set()\n",
    "    if d==0:\n",
    "        return neighborhood.add(Pattern)\n",
    "    if len(Pattern) == 1:\n",
    "        x=set()\n",
    "        x.add('A')\n",
    "        x.add('C')\n",
    "        x.add('G')\n",
    "        x.add('T')\n",
    "        return x\n",
    "    suffix_neighbors = Neighbors(Suffix(Pattern), d)\n",
    "    for text in suffix_neighbors:\n",
    "        if HammingDistance(Suffix(Pattern), text) < d:\n",
    "            for x in ['A', 'C', 'G', 'T']:\n",
    "                neighborhood.add(x+text)\n",
    "        else:\n",
    "            neighborhood.add(Pattern[0]+text)\n",
    "    return neighborhood\n",
    "    \n",
    "def Suffix(Pattern):\n",
    "    return Pattern[1:]"
   ]
  },
  {
   "cell_type": "code",
   "execution_count": 21,
   "metadata": {},
   "outputs": [
    {
     "data": {
      "text/plain": [
       "{'AAG', 'ACA', 'ACC', 'ACG', 'ACT', 'AGG', 'ATG', 'CCG', 'GCG', 'TCG'}"
      ]
     },
     "execution_count": 21,
     "metadata": {},
     "output_type": "execute_result"
    }
   ],
   "source": [
    "Neighbors('ACG', 1)"
   ]
  },
  {
   "cell_type": "markdown",
   "metadata": {},
   "source": [
    "<code>IterativeNeighbors(Pattern, d)\n",
    "        Neighborhood ← set consisting of single string Pattern\n",
    "        for j = 1 to d\n",
    "            for each string Pattern’ in Neighborhood\n",
    "                add ImmediateNeighbors(Pattern') to Neighborhood\n",
    "                remove duplicates from Neighborhood\n",
    "        return Neighborhood</code>"
   ]
  },
  {
   "cell_type": "code",
   "execution_count": 13,
   "metadata": {},
   "outputs": [],
   "source": [
    "def IterativeNeighbors(Pattern, d):\n",
    "    neighborhood = set()\n",
    "    neighborhood.add(Pattern)\n",
    "    for j in range(1, d):\n",
    "        for pattern in neighborhood:\n",
    "            pattern.add(ImmediateNeighbors(pattern))\n",
    "    return neighborhood"
   ]
  },
  {
   "cell_type": "markdown",
   "metadata": {},
   "source": [
    "<code>ComputingFrequenciesWithMismatches(Text, k, d)\n",
    "    for i ← 0 to 4^k − 1\n",
    "        FrequencyArray(i) ← 0\n",
    "    for i ← 0 to |Text|−k\n",
    "        Pattern ← Text(i, k)\n",
    "        Neighborhood ← Neighbors(Pattern, d)\n",
    "        for each string ApproximatePattern in Neighborhood\n",
    "            j ← PatternToNumber(ApproximatePattern)\n",
    "            FrequencyArray(j) ← FrequencyArray(j) + 1\n",
    "    return FrequencyArray </code>"
   ]
  },
  {
   "cell_type": "code",
   "execution_count": 14,
   "metadata": {},
   "outputs": [],
   "source": [
    "def ComputingFrequenciesWithMismatches(Text, k, d):\n",
    "    FrequencyArray = [0]* 4**k\n",
    "    for i in range(0, len(Text)-k):\n",
    "        Pattern = Text[i:k]\n",
    "        neighborhood = Neighbors(Pattern, d)\n",
    "        for ApproximatePattern in neighborhood:\n",
    "            j = pattern_to_number(ApproximatePattern)\n",
    "            FrequencyArray[j]+=1\n",
    "    return FrequencyArray\n",
    "            \n",
    "def symbol_to_number(symbol):\n",
    "    return {'A':0, 'C':1, 'G':2, 'T':3}[symbol]\n",
    "\n",
    "def pattern_to_number(pattern):\n",
    "    if not pattern:\n",
    "        return 0\n",
    "    symbol = pattern[-1]\n",
    "    prefix = pattern[0:-1]\n",
    "    return (4*pattern_to_number(prefix) + symbol_to_number(symbol))"
   ]
  },
  {
   "cell_type": "markdown",
   "metadata": {},
   "source": [
    "<code>FrequentWordsWithMismatches(Text, k, d)\n",
    "        FrequentPatterns ← an empty set\n",
    "        Neighborhoods ← an empty list\n",
    "        for i ← 0 to |Text| − k\n",
    "            add Neighbors(Text(i, k), d) to Neighborhoods\n",
    "        form an array NeighborhoodArray holding all strings in Neighborhoods\n",
    "        for i ← 0 to |Neighborhoods| − 1\n",
    "            Pattern ← NeighborhoodArray(i) \n",
    "            Index(i) ← PatternToNumber(Pattern)\n",
    "            Count(i) ← 1\n",
    "        SortedIndex ← Sort(Index)\n",
    "        for i ← 0 to |Neighborhoods| − 2 \n",
    "            if SortedIndex(i) = SortedIndex(i + 1)\n",
    "                Count(i + 1) ← Count(i) + 1\n",
    "       maxCount ← maximum value in array Count\n",
    "       for i ← 0 to |Neighborhoods| − 1\n",
    "           if Count(i) = maxCount\n",
    "               Pattern ← NumberToPattern(SortedIndex(i), k)\n",
    "               add Pattern to FrequentPatterns\n",
    "       return FrequentPatterns </code>"
   ]
  },
  {
   "cell_type": "code",
   "execution_count": 15,
   "metadata": {},
   "outputs": [],
   "source": [
    "def FrequentWordsWithMismatches(Text, k, d):\n",
    "    counts = {}\n",
    "    for i in range(len(Text)-k+1):\n",
    "        for neighbor in neighbors(Text[i:i+k],d):\n",
    "            if neighbor not in counts:\n",
    "                counts[neighbor] = 0\n",
    "            counts[neighbor] += 1\n",
    "    m = max(counts.values())\n",
    "    return [kmer for kmer in counts if counts[kmer] == m]\n",
    "\n",
    "def neighbors( s, d ):\n",
    "    if d == 0:\n",
    "        return [s]\n",
    "    if len(s) == 1:\n",
    "        return ['A','C','G','T']\n",
    "    out = []\n",
    "    for neighbor in neighbors(s[1:],d):\n",
    "        if hamming(s[1:],neighbor) < d:\n",
    "            out.extend(['A'+neighbor,'C'+neighbor,'G'+neighbor,'T'+neighbor])\n",
    "        else:\n",
    "            out.append(s[0] + neighbor)\n",
    "    return out\n",
    "\n",
    "def hamming( s, t ):\n",
    "    return sum([s[i] != t[i] for i in range(len(s))])"
   ]
  },
  {
   "cell_type": "code",
   "execution_count": 29,
   "metadata": {},
   "outputs": [
    {
     "data": {
      "text/plain": [
       "['ATGT', 'GATG', 'ATGC']"
      ]
     },
     "execution_count": 29,
     "metadata": {},
     "output_type": "execute_result"
    }
   ],
   "source": [
    "FrequentWordsWithMismatches('ACGTTGCATGTCGCATGATGCATGAGAGCT', 4, 1)"
   ]
  },
  {
   "cell_type": "code",
   "execution_count": 16,
   "metadata": {},
   "outputs": [],
   "source": [
    "def frequentWordsWithMismatchesAndReverseComplements( s, k, d ):\n",
    "    counts = {}\n",
    "    for i in range(len(s)-k+1):\n",
    "        for sub in [s[i:i+k],reverseComplement(s[i:i+k])]:\n",
    "            for neighbor in neighbors(sub,d):\n",
    "                if neighbor not in counts:\n",
    "                    counts[neighbor] = 0\n",
    "                counts[neighbor] += 1\n",
    "    m = max(counts.values())\n",
    "    return [kmer for kmer in counts if counts[kmer] == m]\n",
    "\n",
    "def neighbors( s, d ):\n",
    "    if d == 0:\n",
    "        return [s]\n",
    "    if len(s) == 1:\n",
    "        return ['A','C','G','T']\n",
    "    out = []\n",
    "    for neighbor in neighbors(s[1:],d):\n",
    "        if hamming(s[1:],neighbor) < d:\n",
    "            out.extend(['A'+neighbor,'C'+neighbor,'G'+neighbor,'T'+neighbor])\n",
    "        else:\n",
    "            out.append(s[0] + neighbor)\n",
    "    return out\n",
    "\n",
    "def hamming( s, t ):\n",
    "    return sum([s[i] != t[i] for i in range(len(s))])\n",
    "\n",
    "def reverseComplement( s ):\n",
    "    return ''.join([complement(s[i]) for i in range(len(s)-1,-1,-1)])\n",
    "\n",
    "def complement( s ):\n",
    "    return {'A':'T','T':'A','C':'G','G':'C'}[s]\n"
   ]
  },
  {
   "cell_type": "code",
   "execution_count": 34,
   "metadata": {},
   "outputs": [
    {
     "data": {
      "text/plain": [
       "['ACAT', 'ATGT']"
      ]
     },
     "execution_count": 34,
     "metadata": {},
     "output_type": "execute_result"
    }
   ],
   "source": [
    "frequentWordsWithMismatchesAndReverseComplements('ACGTTGCATGTCGCATGATGCATGAGAGCT', 4, 1)"
   ]
  },
  {
   "cell_type": "code",
   "execution_count": 40,
   "metadata": {},
   "outputs": [
    {
     "data": {
      "text/plain": [
       "34"
      ]
     },
     "execution_count": 40,
     "metadata": {},
     "output_type": "execute_result"
    }
   ],
   "source": [
    "len(frequentWordsWithMismatchesAndReverseComplements('aatgatgatgacgtcaaaaggatccgga\\\n",
    "taaaacatggtgattgcctcgcataacgcggtatgaaaatggattgaagcccgggccg\\\n",
    "tggattctactcaactttgtcggcttgagaaagacctgggatcctgggtat\\\n",
    "taaaaagaagatctatttatttagagatctgttctattgtgatctcttatta\\\n",
    "ggatcgcactgcccTGTGGATAAcaaggatccggcttttaagatcaacaacctggaaagga\\\n",
    "tcattaactgtgaatgatcggtgatcctggaccgtataagctgggatcag\\\n",
    "aatgaggggTTATACACAactcaaaaactgaacaacagttgttcTTTGGA\\\n",
    "TAActaccggttgatccaagcttcctgacagagTTATCCACAgtagatcg\\\n",
    "cacgatctgtatacttatttgagtaaattaacccacgatcccagccattc\\\n",
    "ttctgccggatcttccggaatgtcgtgatcaagaatgttgatcttcagtg'.upper(), 9, 1))"
   ]
  },
  {
   "cell_type": "code",
   "execution_count": 4,
   "metadata": {},
   "outputs": [],
   "source": [
    "f = open('Salmonella_enterica.txt', 'r')\n",
    "genome = f.read()"
   ]
  },
  {
   "cell_type": "code",
   "execution_count": 17,
   "metadata": {},
   "outputs": [
    {
     "ename": "KeyError",
     "evalue": "'\\n'",
     "output_type": "error",
     "traceback": [
      "\u001b[1;31m---------------------------------------------------------------------------\u001b[0m",
      "\u001b[1;31mKeyError\u001b[0m                                  Traceback (most recent call last)",
      "\u001b[1;32m<ipython-input-17-e8fff22bbd13>\u001b[0m in \u001b[0;36m<module>\u001b[1;34m()\u001b[0m\n\u001b[1;32m----> 1\u001b[1;33m \u001b[0mfrequentWordsWithMismatchesAndReverseComplements\u001b[0m\u001b[1;33m(\u001b[0m\u001b[0mgenome\u001b[0m\u001b[1;33m,\u001b[0m \u001b[1;36m9\u001b[0m\u001b[1;33m,\u001b[0m \u001b[1;36m1\u001b[0m\u001b[1;33m)\u001b[0m\u001b[1;33m\u001b[0m\u001b[0m\n\u001b[0m",
      "\u001b[1;32m<ipython-input-16-f5546b7c4c77>\u001b[0m in \u001b[0;36mfrequentWordsWithMismatchesAndReverseComplements\u001b[1;34m(s, k, d)\u001b[0m\n\u001b[0;32m      2\u001b[0m     \u001b[0mcounts\u001b[0m \u001b[1;33m=\u001b[0m \u001b[1;33m{\u001b[0m\u001b[1;33m}\u001b[0m\u001b[1;33m\u001b[0m\u001b[0m\n\u001b[0;32m      3\u001b[0m     \u001b[1;32mfor\u001b[0m \u001b[0mi\u001b[0m \u001b[1;32min\u001b[0m \u001b[0mrange\u001b[0m\u001b[1;33m(\u001b[0m\u001b[0mlen\u001b[0m\u001b[1;33m(\u001b[0m\u001b[0ms\u001b[0m\u001b[1;33m)\u001b[0m\u001b[1;33m-\u001b[0m\u001b[0mk\u001b[0m\u001b[1;33m+\u001b[0m\u001b[1;36m1\u001b[0m\u001b[1;33m)\u001b[0m\u001b[1;33m:\u001b[0m\u001b[1;33m\u001b[0m\u001b[0m\n\u001b[1;32m----> 4\u001b[1;33m         \u001b[1;32mfor\u001b[0m \u001b[0msub\u001b[0m \u001b[1;32min\u001b[0m \u001b[1;33m[\u001b[0m\u001b[0ms\u001b[0m\u001b[1;33m[\u001b[0m\u001b[0mi\u001b[0m\u001b[1;33m:\u001b[0m\u001b[0mi\u001b[0m\u001b[1;33m+\u001b[0m\u001b[0mk\u001b[0m\u001b[1;33m]\u001b[0m\u001b[1;33m,\u001b[0m\u001b[0mreverseComplement\u001b[0m\u001b[1;33m(\u001b[0m\u001b[0ms\u001b[0m\u001b[1;33m[\u001b[0m\u001b[0mi\u001b[0m\u001b[1;33m:\u001b[0m\u001b[0mi\u001b[0m\u001b[1;33m+\u001b[0m\u001b[0mk\u001b[0m\u001b[1;33m]\u001b[0m\u001b[1;33m)\u001b[0m\u001b[1;33m]\u001b[0m\u001b[1;33m:\u001b[0m\u001b[1;33m\u001b[0m\u001b[0m\n\u001b[0m\u001b[0;32m      5\u001b[0m             \u001b[1;32mfor\u001b[0m \u001b[0mneighbor\u001b[0m \u001b[1;32min\u001b[0m \u001b[0mneighbors\u001b[0m\u001b[1;33m(\u001b[0m\u001b[0msub\u001b[0m\u001b[1;33m,\u001b[0m\u001b[0md\u001b[0m\u001b[1;33m)\u001b[0m\u001b[1;33m:\u001b[0m\u001b[1;33m\u001b[0m\u001b[0m\n\u001b[0;32m      6\u001b[0m                 \u001b[1;32mif\u001b[0m \u001b[0mneighbor\u001b[0m \u001b[1;32mnot\u001b[0m \u001b[1;32min\u001b[0m \u001b[0mcounts\u001b[0m\u001b[1;33m:\u001b[0m\u001b[1;33m\u001b[0m\u001b[0m\n",
      "\u001b[1;32m<ipython-input-16-f5546b7c4c77>\u001b[0m in \u001b[0;36mreverseComplement\u001b[1;34m(s)\u001b[0m\n\u001b[0;32m     27\u001b[0m \u001b[1;33m\u001b[0m\u001b[0m\n\u001b[0;32m     28\u001b[0m \u001b[1;32mdef\u001b[0m \u001b[0mreverseComplement\u001b[0m\u001b[1;33m(\u001b[0m \u001b[0ms\u001b[0m \u001b[1;33m)\u001b[0m\u001b[1;33m:\u001b[0m\u001b[1;33m\u001b[0m\u001b[0m\n\u001b[1;32m---> 29\u001b[1;33m     \u001b[1;32mreturn\u001b[0m \u001b[1;34m''\u001b[0m\u001b[1;33m.\u001b[0m\u001b[0mjoin\u001b[0m\u001b[1;33m(\u001b[0m\u001b[1;33m[\u001b[0m\u001b[0mcomplement\u001b[0m\u001b[1;33m(\u001b[0m\u001b[0ms\u001b[0m\u001b[1;33m[\u001b[0m\u001b[0mi\u001b[0m\u001b[1;33m]\u001b[0m\u001b[1;33m)\u001b[0m \u001b[1;32mfor\u001b[0m \u001b[0mi\u001b[0m \u001b[1;32min\u001b[0m \u001b[0mrange\u001b[0m\u001b[1;33m(\u001b[0m\u001b[0mlen\u001b[0m\u001b[1;33m(\u001b[0m\u001b[0ms\u001b[0m\u001b[1;33m)\u001b[0m\u001b[1;33m-\u001b[0m\u001b[1;36m1\u001b[0m\u001b[1;33m,\u001b[0m\u001b[1;33m-\u001b[0m\u001b[1;36m1\u001b[0m\u001b[1;33m,\u001b[0m\u001b[1;33m-\u001b[0m\u001b[1;36m1\u001b[0m\u001b[1;33m)\u001b[0m\u001b[1;33m]\u001b[0m\u001b[1;33m)\u001b[0m\u001b[1;33m\u001b[0m\u001b[0m\n\u001b[0m\u001b[0;32m     30\u001b[0m \u001b[1;33m\u001b[0m\u001b[0m\n\u001b[0;32m     31\u001b[0m \u001b[1;32mdef\u001b[0m \u001b[0mcomplement\u001b[0m\u001b[1;33m(\u001b[0m \u001b[0ms\u001b[0m \u001b[1;33m)\u001b[0m\u001b[1;33m:\u001b[0m\u001b[1;33m\u001b[0m\u001b[0m\n",
      "\u001b[1;32m<ipython-input-16-f5546b7c4c77>\u001b[0m in \u001b[0;36m<listcomp>\u001b[1;34m(.0)\u001b[0m\n\u001b[0;32m     27\u001b[0m \u001b[1;33m\u001b[0m\u001b[0m\n\u001b[0;32m     28\u001b[0m \u001b[1;32mdef\u001b[0m \u001b[0mreverseComplement\u001b[0m\u001b[1;33m(\u001b[0m \u001b[0ms\u001b[0m \u001b[1;33m)\u001b[0m\u001b[1;33m:\u001b[0m\u001b[1;33m\u001b[0m\u001b[0m\n\u001b[1;32m---> 29\u001b[1;33m     \u001b[1;32mreturn\u001b[0m \u001b[1;34m''\u001b[0m\u001b[1;33m.\u001b[0m\u001b[0mjoin\u001b[0m\u001b[1;33m(\u001b[0m\u001b[1;33m[\u001b[0m\u001b[0mcomplement\u001b[0m\u001b[1;33m(\u001b[0m\u001b[0ms\u001b[0m\u001b[1;33m[\u001b[0m\u001b[0mi\u001b[0m\u001b[1;33m]\u001b[0m\u001b[1;33m)\u001b[0m \u001b[1;32mfor\u001b[0m \u001b[0mi\u001b[0m \u001b[1;32min\u001b[0m \u001b[0mrange\u001b[0m\u001b[1;33m(\u001b[0m\u001b[0mlen\u001b[0m\u001b[1;33m(\u001b[0m\u001b[0ms\u001b[0m\u001b[1;33m)\u001b[0m\u001b[1;33m-\u001b[0m\u001b[1;36m1\u001b[0m\u001b[1;33m,\u001b[0m\u001b[1;33m-\u001b[0m\u001b[1;36m1\u001b[0m\u001b[1;33m,\u001b[0m\u001b[1;33m-\u001b[0m\u001b[1;36m1\u001b[0m\u001b[1;33m)\u001b[0m\u001b[1;33m]\u001b[0m\u001b[1;33m)\u001b[0m\u001b[1;33m\u001b[0m\u001b[0m\n\u001b[0m\u001b[0;32m     30\u001b[0m \u001b[1;33m\u001b[0m\u001b[0m\n\u001b[0;32m     31\u001b[0m \u001b[1;32mdef\u001b[0m \u001b[0mcomplement\u001b[0m\u001b[1;33m(\u001b[0m \u001b[0ms\u001b[0m \u001b[1;33m)\u001b[0m\u001b[1;33m:\u001b[0m\u001b[1;33m\u001b[0m\u001b[0m\n",
      "\u001b[1;32m<ipython-input-16-f5546b7c4c77>\u001b[0m in \u001b[0;36mcomplement\u001b[1;34m(s)\u001b[0m\n\u001b[0;32m     30\u001b[0m \u001b[1;33m\u001b[0m\u001b[0m\n\u001b[0;32m     31\u001b[0m \u001b[1;32mdef\u001b[0m \u001b[0mcomplement\u001b[0m\u001b[1;33m(\u001b[0m \u001b[0ms\u001b[0m \u001b[1;33m)\u001b[0m\u001b[1;33m:\u001b[0m\u001b[1;33m\u001b[0m\u001b[0m\n\u001b[1;32m---> 32\u001b[1;33m     \u001b[1;32mreturn\u001b[0m \u001b[1;33m{\u001b[0m\u001b[1;34m'A'\u001b[0m\u001b[1;33m:\u001b[0m\u001b[1;34m'T'\u001b[0m\u001b[1;33m,\u001b[0m\u001b[1;34m'T'\u001b[0m\u001b[1;33m:\u001b[0m\u001b[1;34m'A'\u001b[0m\u001b[1;33m,\u001b[0m\u001b[1;34m'C'\u001b[0m\u001b[1;33m:\u001b[0m\u001b[1;34m'G'\u001b[0m\u001b[1;33m,\u001b[0m\u001b[1;34m'G'\u001b[0m\u001b[1;33m:\u001b[0m\u001b[1;34m'C'\u001b[0m\u001b[1;33m}\u001b[0m\u001b[1;33m[\u001b[0m\u001b[0ms\u001b[0m\u001b[1;33m]\u001b[0m\u001b[1;33m\u001b[0m\u001b[0m\n\u001b[0m",
      "\u001b[1;31mKeyError\u001b[0m: '\\n'"
     ]
    }
   ],
   "source": [
    "frequentWordsWithMismatchesAndReverseComplements(genome, 9, 1)"
   ]
  },
  {
   "cell_type": "code",
   "execution_count": 6,
   "metadata": {},
   "outputs": [
    {
     "data": {
      "text/plain": [
       "4877738"
      ]
     },
     "execution_count": 6,
     "metadata": {},
     "output_type": "execute_result"
    }
   ],
   "source": []
  },
  {
   "cell_type": "code",
   "execution_count": null,
   "metadata": {},
   "outputs": [],
   "source": []
  }
 ],
 "metadata": {
  "kernelspec": {
   "display_name": "Python 3",
   "language": "python",
   "name": "python3"
  },
  "language_info": {
   "codemirror_mode": {
    "name": "ipython",
    "version": 3
   },
   "file_extension": ".py",
   "mimetype": "text/x-python",
   "name": "python",
   "nbconvert_exporter": "python",
   "pygments_lexer": "ipython3",
   "version": "3.6.6"
  }
 },
 "nbformat": 4,
 "nbformat_minor": 2
}
