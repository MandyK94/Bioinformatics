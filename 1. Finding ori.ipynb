{
 "cells": [
  {
   "cell_type": "markdown",
   "metadata": {},
   "source": [
    " Initiation of replication is mediated by DnaA, a protein that binds to a short segment within the ori known as a DnaA box."
   ]
  },
  {
   "cell_type": "markdown",
   "metadata": {},
   "source": [
    "<code>PatternCount(Text, Pattern)\n",
    "        count ← 0\n",
    "        for i ← 0 to |Text| − |Pattern|\n",
    "            if Text(i, |Pattern|) = Pattern\n",
    "                count ← count + 1\n",
    "        return count</code>"
   ]
  },
  {
   "cell_type": "code",
   "execution_count": 1,
   "metadata": {},
   "outputs": [],
   "source": [
    "def pattern_count(text, pattern):\n",
    "    count=0\n",
    "    for i in range(0, len(text)-len(pattern)+1):\n",
    "        if text[i: i+len(pattern)] == pattern:\n",
    "            count+=1\n",
    "    return count"
   ]
  },
  {
   "cell_type": "markdown",
   "metadata": {},
   "source": [
    "<code>FrequentWords(Text, k)\n",
    "        FrequentPatterns ← an empty set\n",
    "        for i ← 0 to |Text| − k\n",
    "            Pattern ← the k-mer Text(i, k)\n",
    "            Count(i) ← PatternCount(Text, Pattern)\n",
    "        maxCount ← maximum value in array Count\n",
    "        for i ← 0 to |Text| − k\n",
    "            if Count(i) = maxCount\n",
    "                add Text(i, k) to FrequentPatterns\n",
    "        remove duplicates from FrequentPatterns\n",
    "        return FrequentPatterns\n",
    "</code>\n",
    "the runtime of ﻿FrequentWords has an upper bound of |Text|2 · k steps and refer to the complexity of this algorithm as O(|Text|2 · k)"
   ]
  },
  {
   "cell_type": "code",
   "execution_count": 2,
   "metadata": {},
   "outputs": [],
   "source": [
    "def frequent_words(text, k):\n",
    "    frequent_patterns = set()\n",
    "    count = [0] * len(text)\n",
    "    for i in range(0, len(text)-k+1):\n",
    "        pattern = text[i:i+k]\n",
    "        count[i] = pattern_count(text, pattern)\n",
    "    max_count = max(count)\n",
    "    for i in range(0, len(text)-k+1):\n",
    "        if count[i] == max_count:\n",
    "            frequent_patterns.add(text[i:i+k])\n",
    "    return frequent_patterns"
   ]
  },
  {
   "cell_type": "markdown",
   "metadata": {},
   "source": [
    "## Frequent words algo\n",
    "\n",
    "1. order all 4k k-mers lexicographically\n",
    "2. convert them into the 4k different integers between 0 and 4k − 1\n",
    "3. Given an integer k, we define the frequency array of a string Text as an array of length 4k, where the i-th element of the array holds the number of times that the i-th k-mer (in the lexicographic order) appears in Text"
   ]
  },
  {
   "cell_type": "markdown",
   "metadata": {},
   "source": [
    "<code>PatternToNumber(Pattern)\n",
    "        if Pattern contains no symbols\n",
    "            return 0\n",
    "        symbol ← LastSymbol(Pattern)\n",
    "        Prefix ← Prefix(Pattern)\n",
    "        return 4 · PatternToNumber(Prefix) + SymbolToNumber(symbol)\n",
    "</code>"
   ]
  },
  {
   "cell_type": "code",
   "execution_count": 3,
   "metadata": {},
   "outputs": [],
   "source": [
    "def symbol_to_number(symbol):\n",
    "    return {'A':0, 'C':1, 'G':2, 'T':3}[symbol]\n",
    "\n",
    "def pattern_to_number(pattern):\n",
    "    if not pattern:\n",
    "        return 0\n",
    "    symbol = pattern[-1]\n",
    "    prefix = pattern[0:-1]\n",
    "    return (4*pattern_to_number(prefix) + symbol_to_number(symbol))"
   ]
  },
  {
   "cell_type": "markdown",
   "metadata": {},
   "source": [
    "<code>NumberToPattern(index, k)\n",
    "        if k = 1\n",
    "            return NumberToSymbol(index)\n",
    "        prefixIndex ← Quotient(index, 4)\n",
    "        r ← Remainder(index, 4)\n",
    "        symbol ← NumberToSymbol(r)\n",
    "        PrefixPattern ← NumberToPattern(prefixIndex, k − 1)\n",
    "        return concatenation of PrefixPattern with symbol</code>"
   ]
  },
  {
   "cell_type": "code",
   "execution_count": 4,
   "metadata": {},
   "outputs": [],
   "source": [
    "def number_to_symbol(index):\n",
    "    #print(int(index))\n",
    "    return {0:'A', 1:'C', 2:'G', 3:'T'}[int(index)]\n",
    "\n",
    "import math;\n",
    "def number_to_pattern(index, k):\n",
    "    if k==1:\n",
    "        return number_to_symbol(index)\n",
    "    prefix_index = index/4\n",
    "    r = int(index)%4\n",
    "    symbol = number_to_symbol(r)\n",
    "    prefix_pattern = number_to_pattern(prefix_index, k-1)\n",
    "    return prefix_pattern + symbol"
   ]
  },
  {
   "cell_type": "markdown",
   "metadata": {},
   "source": [
    "<code>ComputingFrequencies(Text, k)\n",
    "        for i ← 0 to 4^k − 1\n",
    "            FrequencyArray(i) ← 0\n",
    "        for i ← 0 to |Text| − k\n",
    "            Pattern ← Text(i, k)\n",
    "            j ← PatternToNumber(Pattern)\n",
    "            FrequencyArray(j) ← FrequencyArray(j) + 1\n",
    "        return FrequencyArray</code>"
   ]
  },
  {
   "cell_type": "code",
   "execution_count": 5,
   "metadata": {},
   "outputs": [],
   "source": [
    "def computing_frequencies(text, k):\n",
    "    frequency_array = [0] *(4**k)\n",
    "    for i in range(0, len(text)-k+1):\n",
    "        pattern = text[i:i+k]\n",
    "        j = pattern_to_number(pattern)\n",
    "        frequency_array[j] = frequency_array[j] + 1\n",
    "    return frequency_array"
   ]
  },
  {
   "cell_type": "markdown",
   "metadata": {},
   "source": [
    "<code>FasterFrequentWords(Text, k)\n",
    "        FrequentPatterns ← an empty set\n",
    "        FrequencyArray ← ComputingFrequencies(Text, k)\n",
    "        maxCount ← maximal value in FrequencyArray\n",
    "        for i ← 0 to 4^k − 1\n",
    "            if FrequencyArray(i) = maxCount\n",
    "                Pattern ← NumberToPattern(i, k)\n",
    "                add Pattern to the set FrequentPatterns\n",
    "        return FrequentPatterns</code>"
   ]
  },
  {
   "cell_type": "code",
   "execution_count": 6,
   "metadata": {},
   "outputs": [],
   "source": [
    "def faster_frequent_words(text, k):\n",
    "    frequent_patterns = set()\n",
    "    frequency_array = computing_frequencies(text, k)\n",
    "    max_count = max(frequency_array)\n",
    "    for i in range(0, (4**k)-1):\n",
    "        if frequency_array[i] == max_count:\n",
    "            pattern = number_to_pattern(i, k)\n",
    "            frequent_patterns.add(pattern)\n",
    "    return frequent_patterns"
   ]
  },
  {
   "cell_type": "markdown",
   "metadata": {},
   "source": [
    "<code>FindingFrequentWordsBySorting(Text , k)\n",
    "        FrequentPatterns ← an empty set\n",
    "        for i ← 0 to |Text| − k\n",
    "            Pattern ← Text(i, k)\n",
    "            Index(i) ← PatternToNumber(Pattern)\n",
    "            Count(i) ← 1\n",
    "        SortedIndex ← Sort(Index)\n",
    "        for i ← 1 to |Text| − k\n",
    "            if SortedIndex(i) = SortedIndex(i − 1)\n",
    "                Count(i) = Count(i − 1) + 1\n",
    "        maxCount ← maximum value in the array Count\n",
    "        for i ← 0 to |Text| − k\n",
    "            if Count(i) = maxCount\n",
    "                Pattern ← NumberToPattern(SortedIndex(i), k)\n",
    "                add Pattern to the set FrequentPatterns\n",
    "        return FrequentPatterns</code>"
   ]
  },
  {
   "cell_type": "markdown",
   "metadata": {},
   "source": [
    "<code>ClumpFinding(Genome, k, L, t)\n",
    "        FrequentPatterns ← an empty set\n",
    "        for i ← 0 to 4^k − 1\n",
    "            Clump(i) ← 0\n",
    "        for i ← 0 to |Genome| − L\n",
    "            Text ← the string of length L starting at position i in Genome \n",
    "            FrequencyArray ← ComputingFrequencies(Text, k)\n",
    "            for index ← 0 to 4^k − 1\n",
    "                if FrequencyArray(index) ≥ t\n",
    "                    Clump(index) ← 1\n",
    "        for i ← 0 to 4^k − 1\n",
    "            if Clump(i) = 1\n",
    "                Pattern ← NumberToPattern(i, k)\n",
    "                add Pattern to the set FrequentPatterns\n",
    "        return FrequentPatterns</code>"
   ]
  },
  {
   "cell_type": "code",
   "execution_count": 7,
   "metadata": {},
   "outputs": [],
   "source": [
    "def clump_finding(genome, k, L, t):\n",
    "    frequent_patterns = set()\n",
    "    clump=[0]*(4**k)\n",
    "    for i in range(0, len(genome)-L):\n",
    "        text = genome[i:i+L]\n",
    "        frequency_array = computing_frequencies(text, k)\n",
    "        for index in range(0, (4**k)-1):\n",
    "            if frequency_array[index] >= t:\n",
    "                clump[index]=1\n",
    "        for i in range(0, (4**k)-1):\n",
    "            if clump[i] == 1:\n",
    "                pattern = number_to_pattern(i, k)\n",
    "                frequent_patterns.add(pattern)\n",
    "    return frequent_patterns"
   ]
  },
  {
   "cell_type": "markdown",
   "metadata": {},
   "source": [
    "<code>BetterClumpFinding(Genome, k, t, L)\n",
    "        FrequentPatterns ← an empty set\n",
    "        for i ← 0 to 4^k − 1\n",
    "            Clump(i) ← 0\n",
    "        Text ← Genome(0, L)\n",
    "        FrequencyArray ← ComputingFrequencies(Text, k)\n",
    "        for i ← 0 to 4^k − 1\n",
    "            if FrequencyArray(i) ≥ t\n",
    "                Clump(i) ← 1\n",
    "        for i ← 1 to |Genome| − L\n",
    "            FirstPattern ← Genome(i − 1, k)\n",
    "            index ← PatternToNumber(FirstPattern)\n",
    "            FrequencyArray(index) ← FrequencyArray(index) − 1\n",
    "            LastPattern ← Genome(i + L − k, k)\n",
    "            index ← PatternToNumber(LastPattern)\n",
    "            FrequencyArray(index) ← FrequencyArray(index) + 1\n",
    "            if FrequencyArray(index) ≥ t\n",
    "                Clump(index) ← 1\n",
    "        for i ← 0 to 4^k − 1\n",
    "            if Clump(i) = 1\n",
    "                Pattern ← NumberToPattern(i, k)\n",
    "                add Pattern to the set FrequentPatterns\n",
    "        return FrequentPatterns</code>"
   ]
  },
  {
   "cell_type": "code",
   "execution_count": 8,
   "metadata": {},
   "outputs": [],
   "source": [
    "def better_clump_finding(genome, k, L, t):\n",
    "    frequent_patterns = set()\n",
    "    clump = [0]*(4**k)\n",
    "    text = genome[0:L]\n",
    "    frequency_array = computing_frequencies(text, k)\n",
    "    for i in range(0, (4**k)-1):\n",
    "        if frequency_array[i] >= t:\n",
    "            clump[i] = 1\n",
    "    for i in range(1, len(genome)-L):\n",
    "        first_pattern = genome[i-1:i-1+k]\n",
    "        index = pattern_to_number(first_pattern)\n",
    "        frequency_array[index] = frequency_array[index] - 1\n",
    "        last_pattern = genome[i+L-k:i+L]\n",
    "        index = pattern_to_number(last_pattern)\n",
    "        frequency_array[index] = frequency_array[index] + 1\n",
    "        if frequency_array[index] >= t:\n",
    "            clump[index] = 1\n",
    "    for i in range(0, (4**k)-1):\n",
    "        if clump[i] == 1:\n",
    "            pattern = number_to_pattern(i, k)\n",
    "            frequent_patterns.add(pattern)\n",
    "    return frequent_patterns"
   ]
  },
  {
   "cell_type": "code",
   "execution_count": 9,
   "metadata": {},
   "outputs": [],
   "source": [
    "f = open(\"Vibrio_cholerae.txt\", 'r')\n",
    "genome = f.read()\n",
    "fp = better_clump_finding(genome, 9, 500, 3)"
   ]
  },
  {
   "cell_type": "code",
   "execution_count": 10,
   "metadata": {},
   "outputs": [
    {
     "data": {
      "text/plain": [
       "124"
      ]
     },
     "execution_count": 10,
     "metadata": {},
     "output_type": "execute_result"
    }
   ],
   "source": [
    "#1904\n",
    "len(fp)"
   ]
  },
  {
   "cell_type": "code",
   "execution_count": null,
   "metadata": {},
   "outputs": [],
   "source": []
  }
 ],
 "metadata": {
  "kernelspec": {
   "display_name": "Python 3",
   "language": "python",
   "name": "python3"
  },
  "language_info": {
   "codemirror_mode": {
    "name": "ipython",
    "version": 3
   },
   "file_extension": ".py",
   "mimetype": "text/x-python",
   "name": "python",
   "nbconvert_exporter": "python",
   "pygments_lexer": "ipython3",
   "version": "3.6.6"
  }
 },
 "nbformat": 4,
 "nbformat_minor": 2
}
